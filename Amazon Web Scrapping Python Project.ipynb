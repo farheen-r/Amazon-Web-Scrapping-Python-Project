{
 "cells": [
  {
   "cell_type": "code",
   "execution_count": 2,
   "id": "33eaa478-e116-4a86-993f-36e0dcf3ed6f",
   "metadata": {},
   "outputs": [],
   "source": [
    "# import libraries \n",
    "\n",
    "from bs4 import BeautifulSoup\n",
    "import requests\n",
    "import time\n",
    "import datetime\n",
    "import pandas as pd\n",
    "import smtplib\n",
    "import re "
   ]
  },
  {
   "cell_type": "code",
   "execution_count": 48,
   "id": "1691a611-cea8-422b-beb3-b5cd2e93ab4b",
   "metadata": {},
   "outputs": [
    {
     "name": "stdout",
     "output_type": "stream",
     "text": [
      "\n",
      "             Sony 139 cm (55 inches) BRAVIA 2 4K Ultra HD Smart LED Google TV K-55S25B (Black)\n",
      "            \n",
      "₹ 58,990                       . 00\n"
     ]
    }
   ],
   "source": [
    "# Connect to Website and pull in data\n",
    "\n",
    "URL = 'https://www.amazon.in/dp/B0D3DWFY54/ref=va_live_carousel?pf_rd_r=YJ83VV32YS967FDMZK4S&pf_rd_p=418036cd-a3fa-48f1-a813-f80d4f52708d&pf_rd_m=A21TJRUUN4KGV&pf_rd_t=Gateway&pf_rd_i=desktop&pf_rd_s=desktop-6&pd_rd_w=hfFe8&pd_rd_r=ffedc8a7-13ef-41fd-9eef-d2d38cc580d1&pd_rd_wg=utxZz&linkCode=ilv&tag=onamzmaneetbh-21&ascsubtag=Ultra_HD_Savings_Top_4K_Smart_TVs_for_Every_Budget_250110143140&asc_contentid=amzn1.amazonlive.broadcast.a11471ad-1125-49bf-9642-410a55353b01&pd_rd_i=B0D3DWFY54&th=1&psc=1'\n",
    "\n",
    "headers = {\"User-Agent\": \"Mozilla/5.0 (Windows NT 10.0; Win64; x64) AppleWebKit/537.36 (KHTML, like Gecko) Chrome/131.0.0.0 Safari/537.36\", \"Accept-Encoding\":\"gzip, deflate\", \"Accept\":\"text/html,application/xhtml+xml,application/xml;q=0.9,*/*;q=0.8\", \"DNT\":\"1\",\"Connection\":\"close\", \"Upgrade-Insecure-Requests\":\"1\"}\n",
    "\n",
    "page = requests.get(URL, headers=headers)\n",
    "\n",
    "soup1 = BeautifulSoup(page.content, \"html.parser\")\n",
    "\n",
    "soup2 = BeautifulSoup(soup1.prettify(), \"html.parser\")\n",
    "\n",
    "#Extracting the title\n",
    "title = soup2.find(id='productTitle').get_text()\n",
    "\n",
    "#Extracting the price\n",
    "symbol=soup2.find(\"span\", class_=\"a-price-symbol\")\n",
    "price_whole=soup2.find(\"span\", class_=\"a-price-whole\")\n",
    "price_fraction = soup2.find(\"span\", class_=\"a-price-fraction\")\n",
    "\n",
    "# Extract text from each component and create a list\n",
    "price_components = [\n",
    "    symbol.get_text().strip() if symbol else '',\n",
    "    price_whole.get_text().strip() if price_whole else '',\n",
    "    price_fraction.get_text().strip() if price_fraction else ''\n",
    "]\n",
    "\n",
    "# Concatenate the price components into a single string\n",
    "price = ' '.join(price_components)\n",
    "\n",
    "price = price.replace('\\n',' ',)\n",
    "price = price.replace('   ',' ',)\n",
    "\n",
    "\n",
    "print(title)\n",
    "print(price)"
   ]
  },
  {
   "cell_type": "code",
   "execution_count": 49,
   "id": "030234fd-85be-4cda-adc1-b1c3e5f8c94b",
   "metadata": {},
   "outputs": [
    {
     "name": "stdout",
     "output_type": "stream",
     "text": [
      "Sony 139 cm (55 inches) BRAVIA 2 4K Ultra HD Smart LED Google TV K-55S25B (Black)\n",
      "58990\n"
     ]
    }
   ],
   "source": [
    "import re\n",
    "\n",
    "# Remove commas and ensure proper handling of decimal places\n",
    "price = re.sub(r'[^\\d.]', '', price)  # Remove non-numeric characters except '.'\n",
    "if '.' in price:\n",
    "    price = price.split('.')[0]  # Remove everything after the first '.'\n",
    "\n",
    "title = title.strip()\n",
    "\n",
    "print(title)\n",
    "print(price)\n"
   ]
  },
  {
   "cell_type": "code",
   "execution_count": 50,
   "id": "81d24e3e-4552-4601-bbf1-09cf7ae9d280",
   "metadata": {},
   "outputs": [
    {
     "name": "stdout",
     "output_type": "stream",
     "text": [
      "2025-01-10\n"
     ]
    }
   ],
   "source": [
    "# Create a Timestamp for your output to track when data was collected\n",
    "\n",
    "import datetime\n",
    "\n",
    "today = datetime.date.today()\n",
    "\n",
    "print(today)"
   ]
  },
  {
   "cell_type": "code",
   "execution_count": 51,
   "id": "d459b4f6-ec11-4ace-bdb1-3c8cfdadccd4",
   "metadata": {},
   "outputs": [],
   "source": [
    "# Create CSV and write headers and data into the file\n",
    "\n",
    "import csv \n",
    "\n",
    "header = ['Title', 'Price', 'Date']\n",
    "data = [title, price, today]\n",
    "\n",
    "\n",
    "with open('WebScraperDataset.csv', 'w', newline='', encoding='UTF8') as f:\n",
    "    writer = csv.writer(f)\n",
    "    writer.writerow(header)\n",
    "    writer.writerow(data)"
   ]
  },
  {
   "cell_type": "code",
   "execution_count": 54,
   "id": "64f9d55e-5ee5-4cf2-bbe2-86286fe3fda1",
   "metadata": {},
   "outputs": [
    {
     "name": "stdout",
     "output_type": "stream",
     "text": [
      "                                               Title  Price        Date\n",
      "0  Sony 139 cm (55 inches) BRAVIA 2 4K Ultra HD S...  58990  2025-01-10\n"
     ]
    }
   ],
   "source": [
    "import pandas as pd\n",
    "\n",
    "df = pd.read_csv(r'C:\\Users\\Farheen\\OneDrive\\Desktop\\python_work\\Amazon Web Scapping Project\\WebScraperDataset.csv')\n",
    "\n",
    "print(df)\n"
   ]
  },
  {
   "cell_type": "code",
   "execution_count": 55,
   "id": "96ee66c7-b5de-4842-b5d2-2e74dfa23bf7",
   "metadata": {},
   "outputs": [],
   "source": [
    "\n",
    "#Now we are appending data to the csv\n",
    "\n",
    "with open('AmazonWebScraperDataset.csv', 'a+', newline='', encoding='UTF8') as f:\n",
    "    writer = csv.writer(f)\n",
    "    writer.writerow(data)\n"
   ]
  },
  {
   "cell_type": "code",
   "execution_count": 56,
   "id": "9b1e43c7-c52b-4caa-9aa6-28a6e60beeca",
   "metadata": {},
   "outputs": [],
   "source": [
    "#Combine all of the above code into one function\n",
    "\n",
    "\n",
    "def check_price():\n",
    "    URL = 'https://www.amazon.in/dp/B0D3DWFY54/ref=va_live_carousel?pf_rd_r=YJ83VV32YS967FDMZK4S&pf_rd_p=418036cd-a3fa-48f1-a813-f80d4f52708d&pf_rd_m=A21TJRUUN4KGV&pf_rd_t=Gateway&pf_rd_i=desktop&pf_rd_s=desktop-6&pd_rd_w=hfFe8&pd_rd_r=ffedc8a7-13ef-41fd-9eef-d2d38cc580d1&pd_rd_wg=utxZz&linkCode=ilv&tag=onamzmaneetbh-21&ascsubtag=Ultra_HD_Savings_Top_4K_Smart_TVs_for_Every_Budget_250110143140&asc_contentid=amzn1.amazonlive.broadcast.a11471ad-1125-49bf-9642-410a55353b01&pd_rd_i=B0D3DWFY54&th=1&psc=1'\n",
    "\n",
    "    headers = {\"User-Agent\": \"Mozilla/5.0 (Windows NT 10.0; Win64; x64) AppleWebKit/537.36 (KHTML, like Gecko) Chrome/131.0.0.0 Safari/537.36\", \"Accept-Encoding\":\"gzip, deflate\", \"Accept\":\"text/html,application/xhtml+xml,application/xml;q=0.9,*/*;q=0.8\", \"DNT\":\"1\",\"Connection\":\"close\", \"Upgrade-Insecure-Requests\":\"1\"}\n",
    "\n",
    "    page = requests.get(URL, headers=headers)\n",
    "\n",
    "    soup1 = BeautifulSoup(page.content, \"html.parser\")\n",
    "\n",
    "    soup2 = BeautifulSoup(soup1.prettify(), \"html.parser\")\n",
    "\n",
    "    title = soup2.find(id='productTitle').get_text()\n",
    "\n",
    "    symbol=soup2.find(\"span\", class_=\"a-price-symbol\")\n",
    "    price_whole=soup2.find(\"span\", class_=\"a-price-whole\")\n",
    "    price_fraction = soup2.find(\"span\", class_=\"a-price-fraction\")\n",
    "\n",
    "\n",
    "    price_components = [\n",
    "        symbol.get_text().strip() if symbol else '',\n",
    "        price_whole.get_text().strip() if price_whole else '',\n",
    "        price_fraction.get_text().strip() if price_fraction else ''\n",
    "]\n",
    "\n",
    "\n",
    "    price = ' '.join(price_components)\n",
    "    price = price.replace('\\n',' ',)\n",
    "    price = price.replace('   ',' ',)\n",
    "    import re\n",
    "\n",
    "\n",
    "    price = re.sub(r'[^\\d.]', '', price)  \n",
    "    if '.' in price:\n",
    "        price = price.split('.')[0]  \n",
    "\n",
    "    title = title.strip()\n",
    "\n",
    "    import datetime\n",
    "\n",
    "    today = datetime.date.today()\n",
    "\n",
    "    import csv \n",
    "\n",
    "    header = ['Title', 'Price', 'Date']\n",
    "    data = [title, price, today]\n",
    "\n",
    "\n",
    "    with open('WebScraperDataset.csv', 'w', newline='', encoding='UTF8') as f:\n",
    "        writer = csv.writer(f)\n",
    "        writer.writerow(header)\n",
    "        writer.writerow(data)\n",
    "\n",
    "\n"
   ]
  },
  {
   "cell_type": "code",
   "execution_count": 75,
   "id": "803040c2-d144-4b6b-9626-3116ad12b3b1",
   "metadata": {},
   "outputs": [
    {
     "ename": "AttributeError",
     "evalue": "'NoneType' object has no attribute 'get_text'",
     "output_type": "error",
     "traceback": [
      "\u001b[1;31m---------------------------------------------------------------------------\u001b[0m",
      "\u001b[1;31mAttributeError\u001b[0m                            Traceback (most recent call last)",
      "Cell \u001b[1;32mIn[75], line 4\u001b[0m\n\u001b[0;32m      1\u001b[0m \u001b[38;5;66;03m# Runs check_price after a set time and inputs data into your CSV\u001b[39;00m\n\u001b[0;32m      3\u001b[0m \u001b[38;5;28;01mwhile\u001b[39;00m(\u001b[38;5;28;01mTrue\u001b[39;00m):\n\u001b[1;32m----> 4\u001b[0m     \u001b[43mcheck_price\u001b[49m\u001b[43m(\u001b[49m\u001b[43m)\u001b[49m\n\u001b[0;32m      5\u001b[0m     time\u001b[38;5;241m.\u001b[39msleep(\u001b[38;5;241m5\u001b[39m)\n",
      "Cell \u001b[1;32mIn[56], line 15\u001b[0m, in \u001b[0;36mcheck_price\u001b[1;34m()\u001b[0m\n\u001b[0;32m     11\u001b[0m soup1 \u001b[38;5;241m=\u001b[39m BeautifulSoup(page\u001b[38;5;241m.\u001b[39mcontent, \u001b[38;5;124m\"\u001b[39m\u001b[38;5;124mhtml.parser\u001b[39m\u001b[38;5;124m\"\u001b[39m)\n\u001b[0;32m     13\u001b[0m soup2 \u001b[38;5;241m=\u001b[39m BeautifulSoup(soup1\u001b[38;5;241m.\u001b[39mprettify(), \u001b[38;5;124m\"\u001b[39m\u001b[38;5;124mhtml.parser\u001b[39m\u001b[38;5;124m\"\u001b[39m)\n\u001b[1;32m---> 15\u001b[0m title \u001b[38;5;241m=\u001b[39m \u001b[43msoup2\u001b[49m\u001b[38;5;241;43m.\u001b[39;49m\u001b[43mfind\u001b[49m\u001b[43m(\u001b[49m\u001b[38;5;28;43mid\u001b[39;49m\u001b[38;5;241;43m=\u001b[39;49m\u001b[38;5;124;43m'\u001b[39;49m\u001b[38;5;124;43mproductTitle\u001b[39;49m\u001b[38;5;124;43m'\u001b[39;49m\u001b[43m)\u001b[49m\u001b[38;5;241;43m.\u001b[39;49m\u001b[43mget_text\u001b[49m()\n\u001b[0;32m     17\u001b[0m symbol\u001b[38;5;241m=\u001b[39msoup2\u001b[38;5;241m.\u001b[39mfind(\u001b[38;5;124m\"\u001b[39m\u001b[38;5;124mspan\u001b[39m\u001b[38;5;124m\"\u001b[39m, class_\u001b[38;5;241m=\u001b[39m\u001b[38;5;124m\"\u001b[39m\u001b[38;5;124ma-price-symbol\u001b[39m\u001b[38;5;124m\"\u001b[39m)\n\u001b[0;32m     18\u001b[0m price_whole\u001b[38;5;241m=\u001b[39msoup2\u001b[38;5;241m.\u001b[39mfind(\u001b[38;5;124m\"\u001b[39m\u001b[38;5;124mspan\u001b[39m\u001b[38;5;124m\"\u001b[39m, class_\u001b[38;5;241m=\u001b[39m\u001b[38;5;124m\"\u001b[39m\u001b[38;5;124ma-price-whole\u001b[39m\u001b[38;5;124m\"\u001b[39m)\n",
      "\u001b[1;31mAttributeError\u001b[0m: 'NoneType' object has no attribute 'get_text'"
     ]
    }
   ],
   "source": [
    "# Runs check_price after a set time and inputs data into your CSV\n",
    "\n",
    "while(True):\n",
    "    check_price()\n",
    "    time.sleep(5)"
   ]
  },
  {
   "cell_type": "code",
   "execution_count": 68,
   "id": "d5502083-bef1-410e-bdcf-881b1593ae85",
   "metadata": {},
   "outputs": [
    {
     "name": "stdout",
     "output_type": "stream",
     "text": [
      "                                               Title  Price        Date\n",
      "0  Sony 139 cm (55 inches) BRAVIA 2 4K Ultra HD S...  58990  2025-01-10\n"
     ]
    }
   ],
   "source": [
    "import pandas as pd\n",
    "\n",
    "df = pd.read_csv(r'C:\\Users\\Farheen\\OneDrive\\Desktop\\python_work\\Amazon Web Scapping Project\\WebScraperDataset.csv')\n",
    "\n",
    "print(df)\n"
   ]
  },
  {
   "cell_type": "code",
   "execution_count": null,
   "id": "95840544-f1e4-45fa-8676-691ede012a30",
   "metadata": {},
   "outputs": [],
   "source": []
  },
  {
   "cell_type": "code",
   "execution_count": null,
   "id": "3b2d6f40-9bca-430f-90f0-28e731088ac3",
   "metadata": {},
   "outputs": [],
   "source": []
  }
 ],
 "metadata": {
  "kernelspec": {
   "display_name": "Python 3 (ipykernel)",
   "language": "python",
   "name": "python3"
  },
  "language_info": {
   "codemirror_mode": {
    "name": "ipython",
    "version": 3
   },
   "file_extension": ".py",
   "mimetype": "text/x-python",
   "name": "python",
   "nbconvert_exporter": "python",
   "pygments_lexer": "ipython3",
   "version": "3.13.1"
  }
 },
 "nbformat": 4,
 "nbformat_minor": 5
}
